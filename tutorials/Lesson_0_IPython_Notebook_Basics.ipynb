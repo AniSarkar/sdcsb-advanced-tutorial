{
 "cells": [
  {
   "cell_type": "markdown",
   "metadata": {},
   "source": [
    "# SDCSB Tutorial Session\n",
    "### Advanced Cytoscape: Cytoscape, IPython, Docker, and reproducible network data visualization workflows\n",
    "\n",
    "Friday, 4/17/2015\n",
    "\n",
    "\n",
    "### Lesson 0: Introduction to IPython Notebook\n",
    "\n",
    "by [Keiichiro Ono](http://keiono.github.io/)\n",
    "\n",
    "----\n",
    "\n",
    "![](http://ipython.org/_static/IPy_header.png)\n",
    "\n",
    "In this tutorial, IPython Notebook is the main workbench to control Cytoscape and other tools.\n",
    "\n",
    "IPython Notebook is a simple tool to run your code in human-frienfly documents (__Notebooks__), and you can boost your productivity by learning some basic commands.\n",
    "\n",
    "### Keyboard Shortcuts\n",
    "There are many keyboard shortcuts, but for now, you just need to learn the following:\n",
    "\n",
    "* __Shift-Enter__ - Run cell\n",
    "* __Ctrl-Enter__ - Run cell in-place\n",
    "* __Alt-Enter__ - Run cell, insert below\n",
    "\n",
    "* __Esc and Enter__ - Command mode and edit mode\n",
    "\n",
    "#### Navigation\n",
    "\n",
    "* Enter _Command Mode_: __ESC__\n",
    "* Enter _Edit Mode_: __ENTER__\n",
    "\n",
    "##### Command Mode\n",
    "* Move to cell above - __k__ or ↑\n",
    "* Move to cell below: __j__ or ↓\n",
    "\n",
    "#### Basic Commands in _Command Mode_\n",
    "\n",
    "* x - cut cell\n",
    "* c - copy cell\n",
    "* v - paste cell below\n",
    "* SHIFT + v - paste cell above\n",
    "* dd - dlete cell\n",
    "\n",
    "Complete list of shortcuts is available under ___Help___ menu:\n",
    "\n",
    "![](http://cl.ly/aJfd/ipython_help.png)\n",
    "\n",
    "OK, let's start!"
   ]
  },
  {
   "cell_type": "code",
   "execution_count": 1,
   "metadata": {
    "collapsed": false,
    "scrolled": true
   },
   "outputs": [
    {
     "name": "stdout",
     "output_type": "stream",
     "text": [
      "Hello IPython World!\n"
     ]
    }
   ],
   "source": [
    "print('Hello IPython World!') "
   ]
  },
  {
   "cell_type": "code",
   "execution_count": 2,
   "metadata": {
    "collapsed": false
   },
   "outputs": [],
   "source": [
    "result1 = 1+1\n",
    "result2 = 2*3"
   ]
  },
  {
   "cell_type": "code",
   "execution_count": 3,
   "metadata": {
    "collapsed": false
   },
   "outputs": [
    {
     "data": {
      "text/plain": [
       "2"
      ]
     },
     "execution_count": 3,
     "metadata": {},
     "output_type": "execute_result"
    }
   ],
   "source": [
    "result2\n",
    "result1"
   ]
  },
  {
   "cell_type": "code",
   "execution_count": 4,
   "metadata": {
    "collapsed": false
   },
   "outputs": [
    {
     "name": "stdout",
     "output_type": "stream",
     "text": [
      "2nd = 6\n",
      "1st = 2\n"
     ]
    }
   ],
   "source": [
    "print('2nd = ' + str(result2))\n",
    "print('1st = ' + str(result1))"
   ]
  },
  {
   "cell_type": "markdown",
   "metadata": {},
   "source": [
    "## Run System Command\n",
    "You can run system commands by adding __!__ at the beggining.\n",
    "\n",
    "Remember: you are running this notebook in Linux container.  You cannot use Windows/Mac commands even if you are using those machines!"
   ]
  },
  {
   "cell_type": "code",
   "execution_count": 5,
   "metadata": {
    "collapsed": false
   },
   "outputs": [
    {
     "name": "stdout",
     "output_type": "stream",
     "text": [
      "total 3.5M\r\n",
      "drwxr-xr-x 1 1000 staff  306 Apr 15 19:42 .\r\n",
      "drwxr-xr-x 1 1000 staff  340 Apr 15 19:41 ..\r\n",
      "drwxr-xr-x 1 1000 staff  102 Mar 30 19:04 answers\r\n",
      "drwxr-xr-x 1 1000 staff  306 Apr 15 00:43 data\r\n",
      "-rw-r--r-- 1 1000 staff  11K Apr 15 18:37 .DS_Store\r\n",
      "drwxr-xr-x 1 1000 staff  238 Apr 15 18:37 .ipynb_checkpoints\r\n",
      "-rw-r--r-- 1 1000 staff  11K Apr 15 19:41 Lesson_0_IPython_Notebook_Basics.ipynb\r\n",
      "-rw-r--r-- 1 1000 staff 223K Apr 15 02:11 Lesson_1_Introduction_to_cyREST.ipynb\r\n",
      "-rw-r--r-- 1 1000 staff 3.2M Apr 15 18:24 Lesson_2_Visualization.ipynb\r\n"
     ]
    }
   ],
   "source": [
    "!ls -alh"
   ]
  },
  {
   "cell_type": "code",
   "execution_count": 6,
   "metadata": {
    "collapsed": false
   },
   "outputs": [
    {
     "name": "stdout",
     "output_type": "stream",
     "text": [
      "\u001b[33mYou are using pip version 6.0.8, however version 6.1.1 is available.\r\n",
      "You should consider upgrading via the 'pip install --upgrade pip' command.\u001b[0m\r\n",
      "bokeh (0.8.2)\r\n",
      "brewer2mpl (1.4.1)\r\n",
      "certifi (14.5.14)\r\n",
      "chardet (2.0.1)\r\n",
      "colorama (0.3.3)\r\n",
      "Cython (0.20.1.post0)\r\n",
      "decorator (3.4.0)\r\n",
      "docutils (0.11)\r\n",
      "Flask (0.10.1)\r\n",
      "ggplot (0.6.5)\r\n",
      "greenlet (0.4.5)\r\n",
      "h5py (2.4.0)\r\n",
      "html5lib (0.999)\r\n",
      "ipython (3.1.0)\r\n",
      "itsdangerous (0.24)\r\n",
      "Jinja2 (2.7.2)\r\n",
      "jsonschema (2.4.0)\r\n",
      "Markdown (2.6.1)\r\n",
      "MarkupSafe (0.18)\r\n",
      "matplotlib (1.4.3)\r\n",
      "mistune (0.5.1)\r\n",
      "networkx (1.9.1)\r\n",
      "nose (1.3.4)\r\n",
      "numpy (1.9.0)\r\n",
      "numpydoc (0.5)\r\n",
      "pandas (0.16.0)\r\n",
      "patsy (0.3.0)\r\n",
      "Pillow (2.3.0)\r\n",
      "pip (6.0.8)\r\n",
      "ptyprocess (0.4)\r\n",
      "py2cytoscape (0.3.3)\r\n",
      "Pygments (1.6)\r\n",
      "pygobject (3.12.0)\r\n",
      "pyparsing (2.0.1)\r\n",
      "pystache (0.5.4)\r\n",
      "python-dateutil (2.4.2)\r\n",
      "python-igraph (0.7.1-4)\r\n",
      "pytz (2013b0)\r\n",
      "PyYAML (3.11)\r\n",
      "pyzmq (14.5.0)\r\n",
      "requests (2.2.1)\r\n",
      "roman (2.0.0)\r\n",
      "scikit-learn (0.16.0)\r\n",
      "scipy (0.14.0)\r\n",
      "seaborn (0.5.1)\r\n",
      "setuptools (3.3)\r\n",
      "six (1.5.2)\r\n",
      "Sphinx (1.2.2)\r\n",
      "statsmodels (0.6.1)\r\n",
      "sympy (0.7.6)\r\n",
      "terminado (0.5)\r\n",
      "tornado (4.1)\r\n",
      "urllib3 (1.7.1)\r\n",
      "Werkzeug (0.10.4)\r\n",
      "yt (3.1)\r\n"
     ]
    }
   ],
   "source": [
    "# List all installed Python packages\n",
    "!pip list"
   ]
  },
  {
   "cell_type": "markdown",
   "metadata": {},
   "source": [
    "## Magic!\n",
    "In IPython Notebook, there is a nice feature called ___magic___.  Magic is a group of commands to execute some usuful functions just like system commands.\n",
    "\n",
    "### Two types of Magic\n",
    "* __Line magics__: Prepended by one __%__ character, only to the end of the current line.\n",
    "* __Cell magics__: Start with  __%%__ and applied to the entire cell\n",
    "\n",
    "Here is the list of handy magics:"
   ]
  },
  {
   "cell_type": "markdown",
   "metadata": {},
   "source": [
    "### Simple performance test with _%timeit_"
   ]
  },
  {
   "cell_type": "code",
   "execution_count": 7,
   "metadata": {
    "collapsed": false
   },
   "outputs": [
    {
     "name": "stdout",
     "output_type": "stream",
     "text": [
      "10 loops, best of 3: 32.9 ms per loop\n"
     ]
    }
   ],
   "source": [
    "# Import NetworkX library, which is already installed in your Docker container\n",
    "import networkx as nx\n",
    "\n",
    "# Create a ranom graph with 100 nodes using Barabashi-Albert Model ()\n",
    "ba=nx.barabasi_albert_graph(100,5)\n",
    "\n",
    "# Check the performance of a NetworkX function (calculate betweenness centrality) by running 10 times\n",
    "%timeit -n 10 nx.betweenness_centrality(ba)"
   ]
  },
  {
   "cell_type": "code",
   "execution_count": 8,
   "metadata": {
    "collapsed": false
   },
   "outputs": [
    {
     "name": "stdout",
     "output_type": "stream",
     "text": [
      "10 loops, best of 3: 15.6 ms per loop\n"
     ]
    }
   ],
   "source": [
    "%%timeit -n 10\n",
    "\n",
    "# Or, check performance of the entire cell\n",
    "ws = nx.watts_strogatz_graph(100,3,0.1)\n",
    "btw = nx.betweenness_centrality(ws)"
   ]
  },
  {
   "cell_type": "markdown",
   "metadata": {},
   "source": [
    "### Create file manually with _%%writefile_"
   ]
  },
  {
   "cell_type": "code",
   "execution_count": 9,
   "metadata": {
    "collapsed": false
   },
   "outputs": [
    {
     "name": "stdout",
     "output_type": "stream",
     "text": [
      "Overwriting data/small_network.sif\n"
     ]
    }
   ],
   "source": [
    "%%writefile data/small_network.sif\n",
    "node1 is_a node2\n",
    "node2 child_of node3\n",
    "node3 child_of node1"
   ]
  },
  {
   "cell_type": "code",
   "execution_count": 10,
   "metadata": {
    "collapsed": false
   },
   "outputs": [
    {
     "name": "stdout",
     "output_type": "stream",
     "text": [
      "node1 is_a node2\r\n",
      "node2 child_of node3\r\n",
      "node3 child_of node1"
     ]
    }
   ],
   "source": [
    "!cat data/small_network.sif"
   ]
  },
  {
   "cell_type": "markdown",
   "metadata": {},
   "source": [
    "### Execute under other interpreters"
   ]
  },
  {
   "cell_type": "code",
   "execution_count": 11,
   "metadata": {
    "collapsed": false
   },
   "outputs": [
    {
     "name": "stdout",
     "output_type": "stream",
     "text": [
      "Env var 1\n"
     ]
    }
   ],
   "source": [
    "%%bash\n",
    "export FOO='Env var 1'\n",
    "echo $FOO"
   ]
  },
  {
   "cell_type": "code",
   "execution_count": 12,
   "metadata": {
    "collapsed": false
   },
   "outputs": [
    {
     "data": {
      "application/javascript": [
       "var foo = function(a) {\n",
       "    return a+1;\n",
       "};\n",
       "\n",
       "console.log(foo(2));"
      ],
      "text/plain": [
       "<IPython.core.display.Javascript object>"
      ]
     },
     "metadata": {},
     "output_type": "display_data"
    }
   ],
   "source": [
    "%%javascript\n",
    "var foo = function(a) {\n",
    "    return a+1;\n",
    "};\n",
    "\n",
    "console.log(foo(2));"
   ]
  },
  {
   "cell_type": "markdown",
   "metadata": {},
   "source": [
    "## Continue to [Lesson 1: Introduction to cyREST](Lesson_1_Introduction_to_cyREST.ipynb)"
   ]
  }
 ],
 "metadata": {
  "kernelspec": {
   "display_name": "Python 3",
   "language": "python",
   "name": "python3"
  },
  "language_info": {
   "codemirror_mode": {
    "name": "ipython",
    "version": 3
   },
   "file_extension": ".py",
   "mimetype": "text/x-python",
   "name": "python",
   "nbconvert_exporter": "python",
   "pygments_lexer": "ipython3",
   "version": "3.4.0"
  }
 },
 "nbformat": 4,
 "nbformat_minor": 0
}
