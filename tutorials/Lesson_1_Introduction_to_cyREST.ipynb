{
 "cells": [
  {
   "cell_type": "markdown",
   "metadata": {},
   "source": [
    "\n",
    "![](http://sdcsb.ucsd.edu/wp-content/themes/sdcsb_theme/images/sdcsb_logo.png)\n",
    "\n",
    "# SDCSB Tutorial\n",
    "### Advanced Cytoscape: Cytoscape, IPython, Docker, and reproducible network data visualization workflows\n",
    "\n",
    "Friday, 4/17/2015 at Sanford\n",
    "\n",
    "\n",
    "### Lesson 1: Introduction to cyREST\n",
    "\n",
    "by [Keiichiro Ono](http://keiono.github.io/)\n",
    "\n",
    "----\n",
    "\n",
    "![](http://cl.ly/XohP/logo300.png)\n",
    "\n",
    "![](http://ipython.org/_static/IPy_header.png)\n",
    "\n",
    "\n",
    "## Welcome!\n",
    "This is an introduction to cyREST and its basic API.  In this section, you will learn how to access Cytoscape through RESTful API.\n",
    "\n",
    "### Prerequisites\n",
    "* Basic knowledge of RESTful API\n",
    "    * [This is a good introduction to REST](http://www.restapitutorial.com/)\n",
    "* Basic Python skill - only basics, such as conditional statements, loops, basic data types.\n",
    "* Basic knowledge of Cytoscape\n",
    "    * Cytoscape data types - Networks, Tables, and Styles.\n",
    "\n",
    "### System Requirments\n",
    "This tutorial is tested on the following platform:\n",
    "\n",
    "#### Client machine running Cytoscape\n",
    "* [Java SE 8](http://www.oracle.com/technetwork/java/javase/downloads/jdk8-downloads-2133151.html)\n",
    "* [Cytoscape 3.2.1](http://cytoscape.org/download.php)\n",
    "* Latest version of [cyREST app](http://apps.cytoscape.org/apps/cyrest)\n",
    "\n",
    "#### Server Running IPython Notebook\n",
    "* Docker running [this image](https://registry.hub.docker.com/u/idekerlab/vizbi-2015/)\n",
    "\n",
    "----"
   ]
  },
  {
   "cell_type": "markdown",
   "metadata": {},
   "source": [
    "## 1. Import Python Libraries and Basic Setup\n",
    "\n",
    "### Libraries\n",
    "In this tutorial, we will use several popular Python libraries to make this workflow more realistic.\n",
    "\n",
    "* NumPy\n",
    "* SciPy\n",
    "* Pandas\n",
    "* igraph\n",
    "* NetworkX\n",
    "* etc.\n",
    "\n",
    "#### Do I need to install all of them?\n",
    "_NO_.  Because we are running this notebook server in Docker container with all dependencies.\n",
    "\n",
    "#### HTTP Client\n",
    "Since you need to access Cytoscape via RESTful API, HTTP client library is the most important tool you need to understand.  In this example, we use [Requests](http://docs.python-requests.org/en/latest/) library to simplify API call code.\n",
    "\n",
    "#### JSON Encoding and Decoding\n",
    "Data will be exchanged as JSON between Cytoscape and Python code.  Python has built-in support for JSON and we will use [it](https://docs.python.org/2/library/json.html) in this workflow.\n",
    "\n",
    "### Basic Setup for the API\n",
    "At this point, there is only one option for the cy-rest module: port number.\n",
    "\n",
    "#### Change Port Number\n",
    "By default, port number used by cy-rest module is __1234__.  To change this, you need set a global Cytoscape property from _**Edit &rarr; Preserences &rarr; Properties...**_ and add a new property __resr.port__.\n",
    "\n",
    "\n",
    "## What is happing in your machine?\n",
    "\n",
    "#### Mac / Windows\n",
    "\n",
    "![](http://cl.ly/aLn4/how_docker_works.png)\n",
    "\n",
    "#### Linux\n",
    "\n",
    "![](http://cl.ly/aM6d/how_docker_works_linux.png)\n",
    "\n",
    "__Actual Docker runtime is only available to Linux operating system and if you use Mac or Windows version of Docker, it is running on a Linux virtual machine (called boot2docker).__  \n",
    "\n",
    "#### URL to Access Cytoscape REST API\n",
    "We assume you are running Cytoscape desktop application and IPython Notebook server in a Docker container we provide.  To access Cytoscape REST API, use the following URL:\n",
    "\n",
    "\n",
    "```url\n",
    "http://IP_of_your_machine:PORT_NUMBER/v1/\n",
    "```\n",
    "\n",
    "where __v1__ is the current version number of API.  Once the final release is ready, we guarantee compatibility of your scripts as long as major version number is the same.\n",
    "\n",
    "\n",
    "\n",
    "### Check your machine's IP\n",
    "\n",
    "* For Linux and Mac:\n",
    "```bash\n",
    "ifconfig\n",
    "```\n",
    "* For Windows:\n",
    "```\n",
    "ipconfig\n",
    "```\n",
    "\n",
    "## Viewing JSON\n",
    "All data exchanged between Cytoscape and other applications is in JSON.  You can make the JSON data more humanreadable by using browser extensions:\n",
    "\n",
    "* [JSONView for Firefox](http://jsonview.com/)\n",
    "* [JSONView for Chrome](https://chrome.google.com/webstore/detail/jsonview/chklaanhfefbnpoihckbnefhakgolnmc)\n",
    "\n",
    "If you prefer command-line tools, [jq](http://stedolan.github.io/jq/) is the best choice.\n",
    "\n",
    "![](http://cl.ly/aMSh/js_sample.png)"
   ]
  },
  {
   "cell_type": "code",
   "execution_count": 111,
   "metadata": {
    "collapsed": true
   },
   "outputs": [],
   "source": [
    "# HTTP Client for Python\n",
    "import requests\n",
    "\n",
    "# Standard JSON library\n",
    "import json\n",
    "\n",
    "# Basic Setup\n",
    "PORT_NUMBER = 1234 # This is the default port number of CyREST"
   ]
  },
  {
   "cell_type": "markdown",
   "metadata": {},
   "source": [
    "----\n",
    "## Don't forget to update this line!  This should be your host machine's IP address."
   ]
  },
  {
   "cell_type": "code",
   "execution_count": 112,
   "metadata": {
    "collapsed": true
   },
   "outputs": [],
   "source": [
    "# IP address of your PHYSICAL MACHINE (NOT VM)\n",
    "IP = '137.110.137.158'"
   ]
  },
  {
   "cell_type": "markdown",
   "metadata": {},
   "source": [
    "----"
   ]
  },
  {
   "cell_type": "code",
   "execution_count": 113,
   "metadata": {
    "collapsed": false
   },
   "outputs": [],
   "source": [
    "BASE = 'http://' + IP +  ':' + str(PORT_NUMBER) + '/v1/'\n",
    "\n",
    "# Header for posting data to the server as JSON\n",
    "HEADERS = {'Content-Type': 'application/json'}\n",
    "\n",
    "# Clean-up\n",
    "requests.delete(BASE + 'session')\n",
    "\n",
    "# Utility function to display JSON (Pretty-printer)\n",
    "def pp(json_data):\n",
    "    print(json.dumps(json_data, indent=4))"
   ]
  },
  {
   "cell_type": "markdown",
   "metadata": {},
   "source": [
    "## 2. Test Cytoscape REST API\n",
    "\n",
    "### Check the status of server\n",
    "First, send a simple request and check the server status.\n",
    "\n",
    "#### Roundtrip between JSON and Python Object\n",
    "\n",
    "Object returned from the requests contains return value of API as JSON.  Let's convert it into Python object.  JSON library in Python converts JSON string into simple Python object."
   ]
  },
  {
   "cell_type": "code",
   "execution_count": 114,
   "metadata": {
    "collapsed": false
   },
   "outputs": [
    {
     "name": "stdout",
     "output_type": "stream",
     "text": [
      "{\n",
      "    \"apiVersion\": \"v1\",\n",
      "    \"numberOfCores\": 8,\n",
      "    \"memoryStatus\": {\n",
      "        \"totalMemory\": 3100,\n",
      "        \"maxMemory\": 28217,\n",
      "        \"usedMemory\": 384,\n",
      "        \"freeMemory\": 2715\n",
      "    }\n",
      "}\n"
     ]
    }
   ],
   "source": [
    "# Get server status\n",
    "res = requests.get(BASE)\n",
    "status_object = res.json()\n",
    "print(json.dumps(status_object, indent=4))"
   ]
  },
  {
   "cell_type": "markdown",
   "metadata": {},
   "source": [
    "And of course, you can access this API from other tools, including web browsers.\n",
    "\n",
    "Click the following URL:"
   ]
  },
  {
   "cell_type": "code",
   "execution_count": 115,
   "metadata": {
    "collapsed": false
   },
   "outputs": [
    {
     "name": "stdout",
     "output_type": "stream",
     "text": [
      "http://137.110.137.158:1234/v1/\n"
     ]
    }
   ],
   "source": [
    "print(BASE)"
   ]
  },
  {
   "cell_type": "markdown",
   "metadata": {},
   "source": [
    "## How cyREST works?\n",
    "\n",
    "![](http://cl.ly/YTR0/rest2.png)\n",
    "\n",
    "Basic mechanism of cyREST is very simple.  It accesses __resources__ in Cytoscape with standard HTTP verbs: POST, GET, PUT, and DELETE.  The URL above means _\"give me status of cyREST server.\"_\n",
    "\n",
    "And once you store the return values in Python object, you can access them through standard Python code:"
   ]
  },
  {
   "cell_type": "code",
   "execution_count": 116,
   "metadata": {
    "collapsed": false
   },
   "outputs": [
    {
     "name": "stdout",
     "output_type": "stream",
     "text": [
      "v1\n",
      "384\n"
     ]
    }
   ],
   "source": [
    "print(status_object['apiVersion'])\n",
    "print(status_object['memoryStatus']['usedMemory'])"
   ]
  },
  {
   "cell_type": "markdown",
   "metadata": {},
   "source": [
    "If you are comfortable with these, you are ready to go!\n",
    "\n",
    "----\n",
    "## 3. Import Networks from various data sources\n",
    "There are many ways to load networks into Cytoscape from REST API:\n",
    "\n",
    "* Load from files\n",
    "* Load from web services\n",
    "* Send Cytoscape.js style JSON directly to Cytoscape\n",
    "* Send edgelist\n",
    "\n",
    "### 3.1 Create networks from local files and URLs\n",
    "\n",
    "Let's start from a simple file loading examples.  The __POST__ method is used to create new Cytoscape objects.  For example,\n",
    "\n",
    "```bash\n",
    "POST http://localhost:1234/v1/networks\n",
    "```\n",
    "\n",
    "means create new network(s) by specified method.  If you want to create networks from files on your machine or remote servers, all you need to do is create a list of file locations and post it to Cytoscape."
   ]
  },
  {
   "cell_type": "code",
   "execution_count": 117,
   "metadata": {
    "collapsed": false
   },
   "outputs": [
    {
     "name": "stdout",
     "output_type": "stream",
     "text": [
      "[\n",
      "    {\n",
      "        \"networkSUID\": [\n",
      "            47097\n",
      "        ],\n",
      "        \"source\": \"http://chianti.ucsd.edu/cytoscape-data/galFiltered.sif\"\n",
      "    },\n",
      "    {\n",
      "        \"networkSUID\": [\n",
      "            45989\n",
      "        ],\n",
      "        \"source\": \"file:////Users/kono/prog/git/sdcsb-advanced-tutorial/tutorials/data/yeast.json\"\n",
      "    }\n",
      "]\n"
     ]
    }
   ],
   "source": [
    "# Small utility function to create networks from list of URLs\n",
    "def create_from_list(network_list, collection_name='Yeast Collection'):\n",
    "    payload = {'source': 'url', 'collection': collection_name}\n",
    "    server_res = requests.post(BASE + 'networks', data=json.dumps(network_list), headers=HEADERS, params=payload)\n",
    "    return server_res.json()\n",
    "\n",
    "\n",
    "# Array of data source. \n",
    "network_files = [\n",
    "    #This should be path in the LOCAL file system! \n",
    "    'file:////Users/kono/prog/git/sdcsb-advanced-tutorial/tutorials/data/yeast.json',\n",
    "    # SIF file on a web server\n",
    "    'http://chianti.ucsd.edu/cytoscape-data/galFiltered.sif'\n",
    "    \n",
    "    # And of course, you can add as many files as you need...\n",
    "]\n",
    "\n",
    "# Create!\n",
    "res_json = create_from_list(network_files)\n",
    "print(json.dumps(res_json, indent=4))"
   ]
  },
  {
   "cell_type": "markdown",
   "metadata": {},
   "source": [
    "## What Happened?\n",
    "\n",
    "![](http://cl.ly/aeGH/cy_rest_basic.png)\n",
    "\n",
    "1. Send list of resource (file) locations as URL from this notebook\n",
    "1. cyREST interpret the requrest for Cytoscape\n",
    "1. Cytoscape uses its own data file loaders from the resource locations in the list\n",
    "1. Cytoscape returns list of new networks created in the session.\n",
    "\n",
    "### What is _SUID_?\n",
    "__SUID__ is the unique identifier for all graph objects in Cytoscape.  You can access any objects in current session as long as you have its SUID.  For the example above, you can access the new network SUIDs by:"
   ]
  },
  {
   "cell_type": "code",
   "execution_count": 118,
   "metadata": {
    "collapsed": false
   },
   "outputs": [
    {
     "data": {
      "text/plain": [
       "[47097, 45989]"
      ]
     },
     "execution_count": 118,
     "metadata": {},
     "output_type": "execute_result"
    }
   ],
   "source": [
    "sample_network_suids = []\n",
    "for new_network in res_json:\n",
    "    sample_network_suids.append(new_network['networkSUID'][0])\n",
    "\n",
    "sample_network_suids"
   ]
  },
  {
   "cell_type": "markdown",
   "metadata": {},
   "source": [
    "Note that __Cytoscape may creates multiple networks from a single network resource__.  This is why you need index number after __networkSUID__.  In this tutorial, all network resource (file) contains only one network, so you can just use __0__ to access the result."
   ]
  },
  {
   "cell_type": "markdown",
   "metadata": {},
   "source": [
    "#### Where is my local data file?\n",
    "This is a bit trickey part.  When you specify local file, you need to absolute path \n",
    "\n",
    "On Docker container, your data file is mounted on:\n",
    "\n",
    "```\n",
    "/notebooks/data\n",
    "```\n",
    "\n",
    "However, actual file is in:\n",
    "\n",
    "```\n",
    "PATH_TO_YOUR_WORKSPACE/vizbi-2015-cytoscape-tutorial/notebooks/data\n",
    "```\n",
    "\n",
    "Although you can see the data directory on _/notebooks/data_, __you need to use absolute path to access actual data from Cytoscape__.  You may think this is a bit annoying, but actually, this is the power of container technology.  You can use completely isolated environment to run your workflow. "
   ]
  },
  {
   "cell_type": "markdown",
   "metadata": {},
   "source": [
    "### 3.2 Create networks from public RESTful web services\n",
    "There are many public network data services.  If the service supports Cytoscape-readable file formats, you can specify the query URL as a network location.  For example, the following URL calls [KEGG REST API](http://www.kegg.jp/kegg/docs/keggapi.html) and load the [TCA Cycle pathway diagram for human](http://www.genome.jp/kegg-bin/show_pathway?org_name=hsa&mapno=00020&mapscale=&show_description=show).\n",
    "\n",
    "### Warning: You need to install [KEGGScape App](http://apps.cytoscape.org/apps/keggscape) to Cytoscape before running the following code!\n",
    "\n",
    "### Pipe external web service result\n",
    "\n",
    "* [TogoWS](http://togows.dbcls.jp/)"
   ]
  },
  {
   "cell_type": "code",
   "execution_count": 140,
   "metadata": {
    "collapsed": false
   },
   "outputs": [
    {
     "name": "stdout",
     "output_type": "stream",
     "text": [
      "[\n",
      "    \"path:map05200\\tPathways in cancer\",\n",
      "    \"path:map05202\\tTranscriptional misregulation in cancer\",\n",
      "    \"path:map05205\\tProteoglycans in cancer\",\n",
      "    \"path:map05206\\tMicroRNAs in cancer\",\n",
      "    \"path:map05210\\tColorectal cancer\",\n",
      "    \"path:map05212\\tPancreatic cancer\",\n",
      "    \"path:map05213\\tEndometrial cancer\",\n",
      "    \"path:map05215\\tProstate cancer\",\n",
      "    \"path:map05216\\tThyroid cancer\",\n",
      "    \"path:map05219\\tBladder cancer\",\n",
      "    \"path:map05222\\tSmall cell lung cancer\",\n",
      "    \"path:map05223\\tNon-small cell lung cancer\",\n",
      "    \"path:map05230\\tCentral carbon metabolism in cancer\",\n",
      "    \"path:map05231\\tCholine metabolism in cancer\"\n",
      "]\n"
     ]
    }
   ],
   "source": [
    "# Find pathways related to lung cancer\n",
    "res = requests.get('http://togows.org/search/kegg-pathway/cancer/1,50.json')\n",
    "pp(res.json())"
   ]
  },
  {
   "cell_type": "code",
   "execution_count": 141,
   "metadata": {
    "collapsed": false
   },
   "outputs": [
    {
     "name": "stdout",
     "output_type": "stream",
     "text": [
      "[\n",
      "    \"http://rest.kegg.jp/get/hsa05200/kgml\",\n",
      "    \"http://rest.kegg.jp/get/hsa05202/kgml\",\n",
      "    \"http://rest.kegg.jp/get/hsa05205/kgml\",\n",
      "    \"http://rest.kegg.jp/get/hsa05206/kgml\",\n",
      "    \"http://rest.kegg.jp/get/hsa05210/kgml\",\n",
      "    \"http://rest.kegg.jp/get/hsa05212/kgml\",\n",
      "    \"http://rest.kegg.jp/get/hsa05213/kgml\",\n",
      "    \"http://rest.kegg.jp/get/hsa05215/kgml\",\n",
      "    \"http://rest.kegg.jp/get/hsa05216/kgml\",\n",
      "    \"http://rest.kegg.jp/get/hsa05219/kgml\",\n",
      "    \"http://rest.kegg.jp/get/hsa05222/kgml\",\n",
      "    \"http://rest.kegg.jp/get/hsa05223/kgml\",\n",
      "    \"http://rest.kegg.jp/get/hsa05230/kgml\",\n",
      "    \"http://rest.kegg.jp/get/hsa05231/kgml\"\n",
      "]\n"
     ]
    }
   ],
   "source": [
    "path_ids = list(map(lambda x: x.split('\\t')[0], res.json()))\n",
    "path_url_human = list(map(lambda x: 'http://rest.kegg.jp/get/' + x.replace('path:map', 'hsa') + '/kgml', path_ids))\n",
    "\n",
    "pp(path_url_human)"
   ]
  },
  {
   "cell_type": "markdown",
   "metadata": {},
   "source": [
    "#### Let's pick first 3 result and import actual pathways."
   ]
  },
  {
   "cell_type": "code",
   "execution_count": 142,
   "metadata": {
    "collapsed": false,
    "scrolled": true
   },
   "outputs": [
    {
     "name": "stdout",
     "output_type": "stream",
     "text": [
      "[\n",
      "    {\n",
      "        \"networkSUID\": [\n",
      "            3931\n",
      "        ],\n",
      "        \"source\": \"http://rest.kegg.jp/get/hsa05205/kgml\"\n",
      "    },\n",
      "    {\n",
      "        \"networkSUID\": [\n",
      "            3483\n",
      "        ],\n",
      "        \"source\": \"http://rest.kegg.jp/get/hsa05202/kgml\"\n",
      "    },\n",
      "    {\n",
      "        \"networkSUID\": [\n",
      "            2300\n",
      "        ],\n",
      "        \"source\": \"http://rest.kegg.jp/get/hsa05200/kgml\"\n",
      "    }\n",
      "]\n"
     ]
    }
   ],
   "source": [
    "# This may take a while...\n",
    "pp(create_from_list(path_url_human[0:3], 'KEGG Metabolic Pathways'))"
   ]
  },
  {
   "cell_type": "markdown",
   "metadata": {},
   "source": [
    "## Understand REST Principles\n",
    "We used modern best practices to design cyREST API.  All __HTTP verbs__ are mapped to Cytoscape resources: \n",
    "\n",
    "| HTTP Verb | Description |\n",
    "|:----------:|:------------|\n",
    "| GET | Retrieving resources (in most cases, it is Cytoscape data objects, such as networks or tables) |\n",
    "| POST | Creating resources | \n",
    "| PUT | Changing/replacing resources or collections |\n",
    "| DELETE | Deleting resources |\n",
    "\n",
    "This design style is called [Resource Oriented Architecture (ROA)](http://www.infoq.com/articles/roa-rest-of-rest).\n",
    "\n",
    "Actually, basic idea is very simple: mapping all operations to existing HTTP verbs.  It is easy to understand once you try actual examples.\n",
    "\n",
    "#### GET (Get a resource)"
   ]
  },
  {
   "cell_type": "code",
   "execution_count": 122,
   "metadata": {
    "collapsed": false
   },
   "outputs": [
    {
     "name": "stdout",
     "output_type": "stream",
     "text": [
      "http://137.110.137.158:1234/v1/networks\n",
      "[\n",
      "    45989,\n",
      "    49445,\n",
      "    49893,\n",
      "    48262,\n",
      "    47097\n",
      "]\n"
     ]
    }
   ],
   "source": [
    "# Get a list of network IDs\n",
    "get_all_networks_url = BASE + 'networks'\n",
    "print(get_all_networks_url)\n",
    "res = requests.get(get_all_networks_url)\n",
    "pp(res.json())"
   ]
  },
  {
   "cell_type": "code",
   "execution_count": 123,
   "metadata": {
    "collapsed": false
   },
   "outputs": [
    {
     "name": "stdout",
     "output_type": "stream",
     "text": [
      "http://137.110.137.158:1234/v1/networks/45989\n",
      "http://137.110.137.158:1234/v1/networks/45989/nodes/count\n",
      "http://137.110.137.158:1234/v1/networks/45989/nodes\n",
      "http://137.110.137.158:1234/v1/networks/45989/tables/defaultnode.csv\n"
     ]
    }
   ],
   "source": [
    "# Pick the first network from the list above:\n",
    "network_suid = res.json()[0]\n",
    "get_network_url = BASE + 'networks/' + str(network_suid)\n",
    "print(get_network_url)\n",
    "\n",
    "# Get number of nodes in the network\n",
    "get_nodes_count_url = BASE + 'networks/' + str(network_suid) + '/nodes/count'\n",
    "print(get_nodes_count_url)\n",
    "\n",
    "# Get all nodes\n",
    "get_nodes_url = BASE + 'networks/' + str(network_suid) + '/nodes'\n",
    "print(get_nodes_url)\n",
    "\n",
    "# Get Node data table as CSV\n",
    "get_node_table_url = BASE + 'networks/' + str(network_suid) + '/tables/defaultnode.csv'\n",
    "print(get_node_table_url)"
   ]
  },
  {
   "cell_type": "markdown",
   "metadata": {},
   "source": [
    "# Exercise 1: _Guess_ URLs\n",
    "If a system's RESTful API is well-designed based on ROA best practices, it should be easy to guess similar functions as URLs.\n",
    "\n",
    "__Display a clickable URLs for the following functions:__\n",
    "\n",
    "1. Show number of networks in current session\n",
    "1. Show all edges in a network\n",
    "1. Show full information for a node (can be any node)\n",
    "1. Show information for all columns in the default node table\n",
    "1. Show all values in default node table under \"name\" column"
   ]
  },
  {
   "cell_type": "code",
   "execution_count": 124,
   "metadata": {
    "collapsed": false
   },
   "outputs": [],
   "source": [
    "# Write your answers here..."
   ]
  },
  {
   "cell_type": "markdown",
   "metadata": {},
   "source": [
    "#### POST (Create a new resource)\n",
    "To create new resource (objects), you should use __POST__ methods.  URLs follow ROA standards, but you need to read API documents to understand data format for each object."
   ]
  },
  {
   "cell_type": "code",
   "execution_count": 125,
   "metadata": {
    "collapsed": false
   },
   "outputs": [
    {
     "name": "stdout",
     "output_type": "stream",
     "text": [
      "[\n",
      "    {\n",
      "        \"SUID\": 50794,\n",
      "        \"name\": \"Node created at 2015-04-15 00:53:24.423260\"\n",
      "    },\n",
      "    {\n",
      "        \"SUID\": 50795,\n",
      "        \"name\": \"Node created at 2015-04-15 00:53:24.423368\"\n",
      "    }\n",
      "]\n"
     ]
    }
   ],
   "source": [
    "# Add a new nodes to existing network (with time stamps)\n",
    "import datetime\n",
    "\n",
    "new_nodes =[\n",
    "    'Node created at ' + str(datetime.datetime.now()),\n",
    "    'Node created at ' + str(datetime.datetime.now())\n",
    "]\n",
    "\n",
    "res = requests.post(get_nodes_url, data=json.dumps(new_nodes), headers=HEADERS)\n",
    "new_node_ids = res.json()\n",
    "pp(new_node_ids)"
   ]
  },
  {
   "cell_type": "markdown",
   "metadata": {},
   "source": [
    "####  DELETE (Delete a resource)"
   ]
  },
  {
   "cell_type": "code",
   "execution_count": 126,
   "metadata": {
    "collapsed": false
   },
   "outputs": [
    {
     "data": {
      "text/plain": [
       "<Response [200]>"
      ]
     },
     "execution_count": 126,
     "metadata": {},
     "output_type": "execute_result"
    }
   ],
   "source": [
    "# Delete all nodes\n",
    "requests.delete(BASE + 'networks/' + str(sample_network_suids[0]) + '/nodes')"
   ]
  },
  {
   "cell_type": "code",
   "execution_count": 127,
   "metadata": {
    "collapsed": false
   },
   "outputs": [
    {
     "data": {
      "text/plain": [
       "<Response [200]>"
      ]
     },
     "execution_count": 127,
     "metadata": {},
     "output_type": "execute_result"
    }
   ],
   "source": [
    "# Delete a network\n",
    "requests.delete(BASE + 'networks/' + str(sample_network_suids[0]))"
   ]
  },
  {
   "cell_type": "markdown",
   "metadata": {},
   "source": [
    "#### PUT (Update a resource)\n",
    "__PUT__ method is used to update information for existing resources.  Just like POST methods, you need to know the data format to be posted."
   ]
  },
  {
   "cell_type": "code",
   "execution_count": 128,
   "metadata": {
    "collapsed": false
   },
   "outputs": [
    {
     "data": {
      "text/plain": [
       "<Response [200]>"
      ]
     },
     "execution_count": 128,
     "metadata": {},
     "output_type": "execute_result"
    }
   ],
   "source": [
    "# Update a node name\n",
    "new_values = [\n",
    "    {\n",
    "        'SUID': new_node_ids[0]['SUID'],\n",
    "        'value' : 'updated 1'\n",
    "    },\n",
    "    {\n",
    "        'SUID': new_node_ids[1]['SUID'],\n",
    "        'value' : 'updated 2'\n",
    "    }\n",
    "]\n",
    "requests.put(BASE + 'networks/' + str(network_suid) + '/tables/defaultnode/columns/name', data=json.dumps(new_values), headers=HEADERS)"
   ]
  },
  {
   "cell_type": "markdown",
   "metadata": {},
   "source": [
    "### 3.3 Create networks from Python objects\n",
    "And this is the most powerful feature in Cytoscape REST API.  __You can easily convert Python objects into Cytoscape networks, tables, or Visual Styles__\n",
    "\n",
    "#### How does this work?\n",
    "Cytoscape REST API sends and receives data as JSON.  For networks, it uses [Cytoscape.js style JSON](http://cytoscape.github.io/cytoscape.js/) (support for more file formats are comming!).  You can programmatically generates networks by converting Python dictionary into JSON.\n",
    "\n",
    "#### 3.3.1 Prepare Network as Cytoscape.js JSON\n",
    "Let's start with the simplest network JSON:"
   ]
  },
  {
   "cell_type": "code",
   "execution_count": 129,
   "metadata": {
    "collapsed": false
   },
   "outputs": [],
   "source": [
    "# Start from a clean slate: remove all networks from current session\n",
    "# requests.delete(BASE + 'networks')"
   ]
  },
  {
   "cell_type": "code",
   "execution_count": 130,
   "metadata": {
    "collapsed": false
   },
   "outputs": [
    {
     "name": "stdout",
     "output_type": "stream",
     "text": [
      "Empty network has SUID 50814\n"
     ]
    }
   ],
   "source": [
    "# Manually generates JSON as a Python dictionary\n",
    "def create_network():\n",
    "    network = { \n",
    "            'data': {\n",
    "                'name': 'I\\'m empty!'\n",
    "            },\n",
    "            'elements': {\n",
    "                'nodes':[],\n",
    "                'edges':[]\n",
    "            }\n",
    "    }\n",
    "    return network\n",
    "\n",
    "\n",
    "# Difine a simple utility function\n",
    "def postNetwork(data):\n",
    "    url_params = {\n",
    "        'collection': 'My Network Colleciton'\n",
    "    }\n",
    "    res = requests.post(BASE + 'networks', params=url_params, data=json.dumps(data), headers=HEADERS)\n",
    "    return res.json()['networkSUID']\n",
    "\n",
    "\n",
    "# POST data to Cytoscape\n",
    "empty_net_1 = create_network()\n",
    "empty_net_1_suid = postNetwork(empty_net_1)\n",
    "print('Empty network has SUID ' + str(empty_net_1_suid))"
   ]
  },
  {
   "cell_type": "markdown",
   "metadata": {},
   "source": [
    "### Modify network dara programmatically\n",
    "Since it's a simple Python dictionary, it is easy to add data to the network.  Let's add some nodes and edges:"
   ]
  },
  {
   "cell_type": "code",
   "execution_count": 131,
   "metadata": {
    "collapsed": false
   },
   "outputs": [
    {
     "name": "stdout",
     "output_type": "stream",
     "text": [
      "['A', 'B', 'C', 'D', 'E', 'F', 'G', 'H', 'I', 'J', 'K', 'L', 'M', 'N', 'O', 'P', 'Q', 'R', 'S', 'T', 'U', 'V', 'W', 'X', 'Y', 'Z']\n"
     ]
    }
   ],
   "source": [
    "# Create sequence of letters (A-Z)\n",
    "seq_letters = list(map(chr, range(ord('A'), ord('Z')+1)))\n",
    "print(seq_letters)"
   ]
  },
  {
   "cell_type": "code",
   "execution_count": 132,
   "metadata": {
    "collapsed": false
   },
   "outputs": [],
   "source": [
    "# Option 1: Add nods and edges with for loops\n",
    "def add_nodes_edges(network):\n",
    "    nodes = []\n",
    "    edges = []\n",
    "    \n",
    "    for lt in seq_letters:\n",
    "        node = {\n",
    "            'data': {\n",
    "                'id': lt\n",
    "            }\n",
    "        }\n",
    "        nodes.append(node)\n",
    "    for lt in seq_letters:\n",
    "        edge = {\n",
    "            'data': { \n",
    "                'source': lt, \n",
    "                'target': 'A' \n",
    "            }\n",
    "        }\n",
    "        edges.append(edge)\n",
    "    network['elements']['nodes'] = nodes\n",
    "    network['elements']['edges'] = edges\n",
    "    network['data']['name'] = 'A is the hub.'\n",
    "\n",
    "# Option 2: Add nodes and edges in functional way\n",
    "def add_nodes_edges_functional(network):\n",
    "    network['elements']['nodes'] =  list(map(lambda x: {'data': { 'id': x }}, seq_letters))\n",
    "    network['elements']['edges'] =  list(map(lambda x: {'data': { 'source': x, 'target': 'A' }}, seq_letters))\n",
    "    network['data']['name'] = 'A is the hub (Functional Way)'\n",
    "\n",
    "# Uncomment this if you want to see the actual JSON object\n",
    "# print(json.dumps(empty_network, indent=4))\n",
    "\n",
    "net1 = create_network()\n",
    "net2 = create_network()\n",
    "\n",
    "add_nodes_edges_functional(net1)\n",
    "add_nodes_edges(net2)\n",
    "\n",
    "networks = [net1, net2]\n",
    "\n",
    "def visualize(net):\n",
    "    suid = postNetwork(net)\n",
    "    net['data']['SUID'] = suid\n",
    "    # Apply layout and Visual Style\n",
    "    requests.get(BASE + 'apply/layouts/force-directed/' + str(suid))\n",
    "    requests.get(BASE + 'apply/styles/Directed/' + str(suid))\n",
    "\n",
    "for net in networks:\n",
    "    visualize(net)"
   ]
  },
  {
   "cell_type": "markdown",
   "metadata": {},
   "source": [
    "Now, your Cytoscpae window should look like this:\n",
    "\n",
    "![](http://cl.ly/aK8w/cy_desktop.png)\n",
    "\n",
    "### Embed images in IPython Notebook\n",
    "cyRest has function to generate PNG image directly from current network view.  Let's try to see the result in this notebook."
   ]
  },
  {
   "cell_type": "code",
   "execution_count": 133,
   "metadata": {
    "collapsed": false
   },
   "outputs": [
    {
     "data": {
      "image/png": "[encoded data removed]",
      "text/plain": [
       "<IPython.core.display.Image object>"
      ]
     },
     "execution_count": 133,
     "metadata": {},
     "output_type": "execute_result"
    }
   ],
   "source": [
    "from IPython.display import Image\n",
    "\n",
    "Image(url=BASE+'networks/' + str(net1['data']['SUID'])+ '/views/first.png', embed=True)"
   ]
  },
  {
   "cell_type": "markdown",
   "metadata": {},
   "source": [
    "## Introduction to Cytoscape Data Model\n",
    "Essentially, writing your workflow as a notebook is a programming.  To control Cytoscape efficiently from Notebooks, you need to understand basic data model of Cytoscape.  Let me explain it as a notebook...\n",
    "\n",
    "First, let's create a data file to visualize Cytoscape data model"
   ]
  },
  {
   "cell_type": "code",
   "execution_count": 134,
   "metadata": {
    "collapsed": false
   },
   "outputs": [
    {
     "name": "stdout",
     "output_type": "stream",
     "text": [
      "Overwriting data/model.sif\n"
     ]
    }
   ],
   "source": [
    "%%writefile data/model.sif\n",
    "Model parent_of ViewModel_1\n",
    "Model parent_of ViewModel_2\n",
    "Model parent_of ViewModel_3\n",
    "ViewModel_1 parent_of Presentation_A\n",
    "ViewModel_1 parent_of Presentation_B\n",
    "ViewModel_2 parent_of Presentation_C\n",
    "ViewModel_3 parent_of Presentation_D\n",
    "ViewModel_3 parent_of Presentation_E\n",
    "ViewModel_3 parent_of Presentation_F"
   ]
  },
  {
   "cell_type": "code",
   "execution_count": 135,
   "metadata": {
    "collapsed": false
   },
   "outputs": [
    {
     "data": {
      "image/png": "[encoded data removed]",
      "text/plain": [
       "<IPython.core.display.Image object>"
      ]
     },
     "execution_count": 135,
     "metadata": {},
     "output_type": "execute_result"
    }
   ],
   "source": [
    "model = [\n",
    "    'file:////Users/kono/prog/git/sdcsb-advanced-tutorial/tutorials/data/model.sif'\n",
    "]\n",
    "\n",
    "# Create!\n",
    "res = create_from_list(model)\n",
    "model_suid = res[0]['networkSUID'][0]\n",
    "\n",
    "requests.get(BASE + 'apply/layouts/force-directed/' + str(model_suid))\n",
    "Image(url=BASE+'networks/' + str(model_suid)+ '/views/first.png', embed=True)"
   ]
  },
  {
   "cell_type": "markdown",
   "metadata": {},
   "source": [
    "### Mode, View Model, and Presentation\n",
    "\n",
    "#### Model\n",
    "Essentially, __Model__ in Cytoscape means networks and tables.  Internally, Model can have multiple View Models.\n",
    "\n",
    "#### View Model\n",
    "State of the view.\n",
    "\n",
    "This is why you need to use __views__ instead of view in the API:\n",
    "\n",
    "```\n",
    "/v1/networks/SUID/views\n",
    "```\n",
    "\n",
    "However, Cytoscape 3.2.x has only one rendering engine for now, and end-users do not have access to this feature.  Until Cytoscape Desktop supports multiple renderers, best practice is just use one view per model.  To access the default view, there is a utility method _first_:"
   ]
  },
  {
   "cell_type": "code",
   "execution_count": 136,
   "metadata": {
    "collapsed": false
   },
   "outputs": [
    {
     "name": "stdout",
     "output_type": "stream",
     "text": [
      "You can access (default) network view from this URL: http://137.110.137.158:1234/v1/networks/51058/views/first\n"
     ]
    }
   ],
   "source": [
    "view_url = BASE + 'networks/' + str(model_suid) + '/views/first'\n",
    "print('You can access (default) network view from this URL: ' + view_url)"
   ]
  },
  {
   "cell_type": "markdown",
   "metadata": {},
   "source": [
    "#### Presentation\n",
    "Presentation is a stateless, actual graphics you see in the window.  A View Model can have multiple Presentations.  For now, you can assume there is always one presentation per View Model.\n",
    "\n",
    "----\n",
    "\n",
    "### What do you need to know as a cyREST user?\n",
    "CyREST API is fairly low level, and you can access all levels of Cytoscpae data structures.  But if you want to use Cytoscape as a simple network visualization engine for IPython Notebook, here are some tips:\n",
    "\n",
    "#### Tip 1:  Always keep SUID when you create any new object\n",
    "__ALL Cytoscape objects, networks, nodes, egdes, and tables have a session unique ID, called SUID__.  When you create any new data objects in Cytoscape, it returns SUIDs.  You need to keep them as Python data objects (list, dict, amp, etc.) to access them later.\n",
    "\n",
    "#### Tip 2: Create one view per model\n",
    "Until Cytoscape Desktop fully support multiple view/presentation feature, keep it simple: one view per model.\n",
    "\n",
    "#### Tip 3: Minimize number of API calls\n",
    "Of course, there is a API to add / remove / update one data object per API call, but it is extremely inefficient!"
   ]
  },
  {
   "cell_type": "markdown",
   "metadata": {},
   "source": [
    "#### 3.3.2 Prepare Network as edgelist\n",
    "Edgelist is a minimalistic data format for networks and it is widely used in popular libraries including NetworkX and igraph.  Preparing edgelist in Python is straightforward.  You just need to prepare a list of edges as string like:\n",
    "\n",
    "```\n",
    "a b\n",
    "b c\n",
    "a c\n",
    "c d\n",
    "d f\n",
    "b f\n",
    "f g\n",
    "f h\n",
    "```\n",
    "\n",
    "In Python, there are many ways to generate string like this.  Here is a naive approach:"
   ]
  },
  {
   "cell_type": "code",
   "execution_count": 137,
   "metadata": {
    "collapsed": false
   },
   "outputs": [
    {
     "data": {
      "image/png": "[encoded data removed]",
      "text/plain": [
       "<IPython.core.display.Image object>"
      ]
     },
     "execution_count": 137,
     "metadata": {},
     "output_type": "execute_result"
    }
   ],
   "source": [
    "data_str = ''\n",
    "n = 0\n",
    "while n <100:\n",
    "    data_str = data_str + str(n) + '\\t' + str(n+1) + '\\n'\n",
    "    n = n + 1\n",
    "\n",
    "# Join the first and last nodes\n",
    "data_str = data_str + '100\\t0\\n'\n",
    "\n",
    "# print(data_str)\n",
    "\n",
    "# You can create multiple networks by running simple for loop:\n",
    "for i in range(3):\n",
    "    res = requests.post(BASE + 'networks?format=edgelist&collection=Ring', data=data_str, headers=HEADERS)\n",
    "    circle_suid = res.json()['networkSUID']\n",
    "    requests.get(BASE + 'apply/layouts/circular/' + str(circle_suid))\n",
    "\n",
    "Image(url=BASE+'networks/' + str(circle_suid) + '/views/first.png', embed=True)"
   ]
  },
  {
   "cell_type": "markdown",
   "metadata": {},
   "source": [
    "# Exercise 2: Create a network from a simple edge list file\n",
    "Edge list is a human-editable text file to represent a graph structure.  Using the sample data abobe (edge list example in 3.3.2), create a new network in Cytoscape from the edge list and visualize it just like the ring network above.  \n",
    "\n",
    "__Hint__: Use Magic!"
   ]
  },
  {
   "cell_type": "code",
   "execution_count": 138,
   "metadata": {
    "collapsed": false
   },
   "outputs": [],
   "source": [
    "# Write your code here..."
   ]
  },
  {
   "cell_type": "markdown",
   "metadata": {},
   "source": [
    "## Discussion\n",
    "In this section, we've learned how to generate networks programmatically in Python.  But for real world problems, it is not a good idea to use low level Python code to generate networks because there are lots of cool graph libraries such as NetworkX or igraph which provide high level graph APIs.  In the next session, let's use them to analyze real network data sets.\n",
    "\n",
    "## Continues to [Lesson 2: Visualization](Lesson_2_Visualization.ipynb)"
   ]
  }
 ],
 "metadata": {
  "kernelspec": {
   "display_name": "Python 3",
   "language": "python",
   "name": "python3"
  },
  "language_info": {
   "codemirror_mode": {
    "name": "ipython",
    "version": 3
   },
   "file_extension": ".py",
   "mimetype": "text/x-python",
   "name": "python",
   "nbconvert_exporter": "python",
   "pygments_lexer": "ipython3",
   "version": "3.4.0"
  }
 },
 "nbformat": 4,
 "nbformat_minor": 0
}
